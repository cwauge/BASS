{
 "cells": [
  {
   "cell_type": "code",
   "execution_count": 31,
   "metadata": {},
   "outputs": [],
   "source": [
    "import numpy as np\n",
    "from astropy.io import fits\n",
    "from astropy.visualization.mpl_normalize import ImageNormalize\n",
    "from astropy.stats import sigma_clipped_stats, SigmaClip\n",
    "from astropy.visualization import SqrtStretch\n",
    "from galfitools.galin.getStar import getStar"
   ]
  },
  {
   "cell_type": "code",
   "execution_count": 30,
   "metadata": {},
   "outputs": [
    {
     "name": "stdout",
     "output_type": "stream",
     "text": [
      "26.392181267665688\n",
      "26.56263984702383\n"
     ]
    }
   ],
   "source": [
    "# Zero point mag calc\n",
    "photflam = 8.6088286E-20\n",
    "photplam = 5.9223179E+03\n",
    "\n",
    "zp_ab = -2.5*np.log10(photflam) - 5*np.log10(photplam) - 2.408\n",
    "zp_st = -2.5*np.log10(photflam) -21.10\n",
    "\n",
    "print(zp_ab)\n",
    "print(zp_st)"
   ]
  },
  {
   "cell_type": "code",
   "execution_count": 26,
   "metadata": {},
   "outputs": [
    {
     "name": "stderr",
     "output_type": "stream",
     "text": [
      "/Users/connorauge/anaconda3/envs/galfit/lib/python3.11/site-packages/astropy-6.1.0-py3.11-macosx-11.1-arm64.egg/astropy/stats/sigma_clipping.py:438: AstropyUserWarning: Input data contains invalid values (NaNs or infs), which were automatically clipped.\n",
      "  warnings.warn(\n"
     ]
    },
    {
     "name": "stdout",
     "output_type": "stream",
     "text": [
      "0.0009481345 0.00055287784 0.012340069\n"
     ]
    }
   ],
   "source": [
    "path = '/Users/connorauge/Research/BASS/galfit/'\n",
    "\n",
    "### VIIZw118\n",
    "F435W_filt = 'VIIZw118/F435W/jf558e010/jf558e010_drz.fits'\n",
    "\n",
    "with fits.open(f'{path}{F435W_filt}') as hdul:\n",
    "    fov = hdul[1].data\n",
    "\n",
    "norm = ImageNormalize(stretch=SqrtStretch())\n",
    "\n",
    "mean, median, std = sigma_clipped_stats(fov, sigma=3)\n",
    "print(mean,median,std)"
   ]
  },
  {
   "cell_type": "code",
   "execution_count": null,
   "metadata": {},
   "outputs": [],
   "source": [
    "getStar(fov)"
   ]
  }
 ],
 "metadata": {
  "kernelspec": {
   "display_name": "galfit",
   "language": "python",
   "name": "python3"
  },
  "language_info": {
   "codemirror_mode": {
    "name": "ipython",
    "version": 3
   },
   "file_extension": ".py",
   "mimetype": "text/x-python",
   "name": "python",
   "nbconvert_exporter": "python",
   "pygments_lexer": "ipython3",
   "version": "3.11.8"
  }
 },
 "nbformat": 4,
 "nbformat_minor": 2
}
