{
 "cells": [
  {
   "cell_type": "code",
   "execution_count": 1,
   "metadata": {},
   "outputs": [],
   "source": [
    "import numpy as np \n",
    "from astropy.io import fits"
   ]
  },
  {
   "cell_type": "code",
   "execution_count": 7,
   "metadata": {},
   "outputs": [
    {
     "name": "stdout",
     "output_type": "stream",
     "text": [
      "24.057918208642313 22.23527734508116\n",
      "25.93375155857194 26.76952755037418\n",
      "25.646639512022915 25.13701214350619\n"
     ]
    }
   ],
   "source": [
    "# Calculate photometric zeropoints for HST\n",
    "\n",
    "# ZPAB=−2.5∗log10(PHOTFLAM)−5∗log10(PHOTPLAM)−2.408\n",
    "PHOTFLAM = 4.63328549999999E-18\n",
    "PHOTPLAM = 2365.22155\n",
    "ZP_AB = -2.5*np.log10(PHOTFLAM)-5*np.log10(PHOTPLAM)-2.408\n",
    "ZP_ST = -2.5*np.log10(PHOTFLAM) -21.10\n",
    "print(ZP_AB, ZP_ST)\n",
    "\n",
    "PHOTFLAM = 7.1152306E-20\n",
    "PHOTPLAM = 8.0455400E+03\n",
    "ZP_AB = -2.5*np.log10(PHOTFLAM)-5*np.log10(PHOTPLAM)-2.408\n",
    "ZP_ST = -2.5*np.log10(PHOTFLAM) -21.10\n",
    "print(ZP_AB, ZP_ST)\n",
    "\n",
    "PHOTFLAM = 3.2003328E-19\n",
    "PHOTPLAM = 4.3298667E+03\n",
    "ZP_AB = -2.5*np.log10(PHOTFLAM)-5*np.log10(PHOTPLAM)-2.408\n",
    "ZP_ST = -2.5*np.log10(PHOTFLAM) -21.10\n",
    "print(ZP_AB, ZP_ST)"
   ]
  },
  {
   "cell_type": "code",
   "execution_count": 12,
   "metadata": {},
   "outputs": [],
   "source": [
    "# with fits.open('/Users/connor_auge/Research/galfit/galfit-example/LEDA20607_674exp/hst_f435w_exp674.fits') as hdul:\n",
    "#     data_target = hdul[1].data\n",
    "#     header_target = hdul[1].header\n",
    "#     header0_target = hdul[0].header\n",
    "\n",
    "# with fits.open('/Users/connor_auge/Research/galfit/galfit-example/LEDA20607_5exp/hst_f814w_exp5.fits') as hdul:\n",
    "#     data_target = hdul[1].data\n",
    "#     header_target = hdul[1].header\n",
    "#     header0_target = hdul[0].header\n",
    "\n",
    "# path = '/Users/connor_auge/Research/BASS/UGC3478/F814W/674exp/jdrw51010_drz.fits'\n",
    "# path = '/Users/connor_auge/Research/BASS/UGC3478/F435W/674exp/jf5576010_drz.fits'\n",
    "# with fits.open(path) as hdul:\n",
    "#     data_target = hdul[1].data\n",
    "#     header_target = hdul[1].header\n",
    "#     header0_target = hdul[0].header    \n",
    "\n",
    "# with fits.open('/Users/connor_auge/Research/BASS/LEDA75258/F435W/674exp/jf555o010_drz.fits') as hdul:\n",
    "#     data_target = hdul[1].data\n",
    "#     header_target = hdul[1].header\n",
    "#     header0_target = hdul[0].header   \n",
    "\n",
    "\n",
    "\n",
    "\n",
    "#### UGC3478 ####\n",
    "# with fits.open('/Users/connorauge/Research/BASS/galfit/UGC3478/F225W/ieag22010/ieag22010_drc.fits') as hdul:\n",
    "    # data_target = hdul[1].data\n",
    "    # header_target = hdul[1].header\n",
    "    # header0_target = hdul[0].header \n",
    "\n",
    "# with fits.open('/Users/connorauge/Research/BASS/galfit/UGC3478/F435W/jf5576010/jf5576010_drc.fits') as hdul:\n",
    "#     data_target = hdul[1].data\n",
    "#     header_target = hdul[1].header\n",
    "#     header0_target = hdul[0].header \n",
    "\n",
    "with fits.open('/Users/connorauge/Research/BASS/galfit/UGC3478/F814W/hst_15444_51_acs_wfc_f814w_jdrw51/hst_15444_51_acs_wfc_f814w_jdrw51_drc.fits') as hdul:\n",
    "    data_target = hdul[1].data\n",
    "    header_target = hdul[1].header\n",
    "    header0_target = hdul[0].header \n",
    "\n",
    "#### ####### ####\n",
    "\n",
    "\n",
    "\n",
    "#### ESO323-77 ####\n",
    "# with fits.open('/Users/connorauge/Research/BASS/galfit/ESO323-77/F225W/ieag46010/ieag46010_drc.fits') as hdul:\n",
    "#     data_target = hdul[1].data\n",
    "#     header_target = hdul[1].header\n",
    "#     header0_target = hdul[0].header    \n",
    "#### ####### ####\n",
    "\n",
    "\n",
    "with fits.open('/Users/connorauge/Research/galfit/test/disk_54833.bulgedisk.fits') as hdul:\n",
    "    data_test = hdul[1].data \n",
    "    header_test = hdul[1].header"
   ]
  },
  {
   "cell_type": "code",
   "execution_count": 13,
   "metadata": {},
   "outputs": [],
   "source": [
    "header_test['NAXIS'] = header_target['NAXIS']\n",
    "header_test['NAXIS1'] = header_target['NAXIS1']\n",
    "header_test['NAXIS2'] = header_target['NAXIS2']\n",
    "# header_test['EXPTIME'] = 1050.0\n",
    "header_test['EXPTIME'] = 1\n",
    "# \n",
    "header_test['RA'] = header_target['RA_APER']\n",
    "header_test['DEC'] = header_target['DEC_APER']\n",
    "\n",
    "header_test['FILTER'] = 'F435W'\n",
    "header_test['HIERARCH PIXEL_SCALE'] = 0.04"
   ]
  },
  {
   "cell_type": "code",
   "execution_count": 14,
   "metadata": {},
   "outputs": [],
   "source": [
    "fits.writeto('/Users/connorauge/Research/BASS/galfit/UGC3478/F814W/hst_15444_51_acs_wfc_f814w_jdrw51/UGC3478_F814W_tofit.fits',data_target,header_test,overwrite=True)"
   ]
  },
  {
   "cell_type": "code",
   "execution_count": null,
   "metadata": {},
   "outputs": [],
   "source": []
  }
 ],
 "metadata": {
  "kernelspec": {
   "display_name": "galfit",
   "language": "python",
   "name": "python3"
  },
  "language_info": {
   "codemirror_mode": {
    "name": "ipython",
    "version": 3
   },
   "file_extension": ".py",
   "mimetype": "text/x-python",
   "name": "python",
   "nbconvert_exporter": "python",
   "pygments_lexer": "ipython3",
   "version": "3.11.8"
  }
 },
 "nbformat": 4,
 "nbformat_minor": 2
}
